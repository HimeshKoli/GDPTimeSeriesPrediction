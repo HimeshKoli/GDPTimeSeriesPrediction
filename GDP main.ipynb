{
 "cells": [
  {
   "cell_type": "code",
   "execution_count": 1,
   "id": "a2f9c130",
   "metadata": {},
   "outputs": [],
   "source": [
    "import pandas as pd\n",
    "import numpy as np\n",
    "import requests\n",
    "import matplotlib.pyplot as plt\n",
    "%matplotlib inline\n",
    "from scipy.stats import skew\n",
    "import statsmodels.api as sm"
   ]
  },
  {
   "cell_type": "code",
   "execution_count": 2,
   "id": "e40df023",
   "metadata": {},
   "outputs": [],
   "source": [
    "api_key = '579b464db66ec23bdd000001023b005613b940c9705454ff030f9881'\n",
    "url = 'https://api.data.gov.in/resource/07d49df4-233f-4898-92db-e6855d4dd94c?api-key=579b464db66ec23bdd000001023b005613b940c9705454ff030f9881&format=json&limit=70'\n",
    "\n",
    "response = requests.get(url).json()"
   ]
  },
  {
   "cell_type": "code",
   "execution_count": 4,
   "id": "f36e4548",
   "metadata": {},
   "outputs": [],
   "source": [
    "gdp_sample_df = pd.DataFrame(columns=['Financial_year', 'GDP_in_rs_cr', 'GDP_growth_rate_yoy'])"
   ]
  },
  {
   "cell_type": "code",
   "execution_count": 5,
   "id": "12c90bd1",
   "metadata": {},
   "outputs": [],
   "source": [
    "for data in response['records']:\n",
    "    Financial_year = data['financial_year']\n",
    "    GDP_in_rs_cr = data['gross_domestic_product_in_rs_cr_at_2004_05_prices']\n",
    "    GDP_growth_rate_yoy = data['gross_domestic_product___growth_rate_yoy_']\n",
    "    \n",
    "#     print(Financial_year)\n",
    "#     print(GDP_in_rs_cr)\n",
    "#     print(GDP_growth_rate_yoy)\n",
    "    \n",
    "    \n",
    "    gdp_sample_df = gdp_sample_df.append({'Financial_year':Financial_year, 'GDP_in_rs_cr':GDP_in_rs_cr, \n",
    "                                          'GDP_growth_rate_yoy':GDP_growth_rate_yoy}, ignore_index=True)"
   ]
  },
  {
   "cell_type": "code",
   "execution_count": 6,
   "id": "3fe46892",
   "metadata": {},
   "outputs": [
    {
     "data": {
      "text/html": [
       "<div>\n",
       "<style scoped>\n",
       "    .dataframe tbody tr th:only-of-type {\n",
       "        vertical-align: middle;\n",
       "    }\n",
       "\n",
       "    .dataframe tbody tr th {\n",
       "        vertical-align: top;\n",
       "    }\n",
       "\n",
       "    .dataframe thead th {\n",
       "        text-align: right;\n",
       "    }\n",
       "</style>\n",
       "<table border=\"1\" class=\"dataframe\">\n",
       "  <thead>\n",
       "    <tr style=\"text-align: right;\">\n",
       "      <th></th>\n",
       "      <th>Financial_year</th>\n",
       "      <th>GDP_in_rs_cr</th>\n",
       "      <th>GDP_growth_rate_yoy</th>\n",
       "    </tr>\n",
       "  </thead>\n",
       "  <tbody>\n",
       "    <tr>\n",
       "      <th>0</th>\n",
       "      <td>1951-52</td>\n",
       "      <td>286147</td>\n",
       "      <td>233</td>\n",
       "    </tr>\n",
       "    <tr>\n",
       "      <th>1</th>\n",
       "      <td>1952-53</td>\n",
       "      <td>294267</td>\n",
       "      <td>284</td>\n",
       "    </tr>\n",
       "    <tr>\n",
       "      <th>2</th>\n",
       "      <td>1953-54</td>\n",
       "      <td>312177</td>\n",
       "      <td>609</td>\n",
       "    </tr>\n",
       "    <tr>\n",
       "      <th>3</th>\n",
       "      <td>1954-55</td>\n",
       "      <td>325431</td>\n",
       "      <td>425</td>\n",
       "    </tr>\n",
       "    <tr>\n",
       "      <th>4</th>\n",
       "      <td>1955-56</td>\n",
       "      <td>333766</td>\n",
       "      <td>256</td>\n",
       "    </tr>\n",
       "    <tr>\n",
       "      <th>5</th>\n",
       "      <td>1956-57</td>\n",
       "      <td>352766</td>\n",
       "      <td>569</td>\n",
       "    </tr>\n",
       "    <tr>\n",
       "      <th>6</th>\n",
       "      <td>1957-58</td>\n",
       "      <td>348500</td>\n",
       "      <td>-121</td>\n",
       "    </tr>\n",
       "    <tr>\n",
       "      <th>7</th>\n",
       "      <td>1958-59</td>\n",
       "      <td>374948</td>\n",
       "      <td>759</td>\n",
       "    </tr>\n",
       "    <tr>\n",
       "      <th>8</th>\n",
       "      <td>1959-60</td>\n",
       "      <td>383153</td>\n",
       "      <td>219</td>\n",
       "    </tr>\n",
       "    <tr>\n",
       "      <th>9</th>\n",
       "      <td>1960-61</td>\n",
       "      <td>410279</td>\n",
       "      <td>708</td>\n",
       "    </tr>\n",
       "  </tbody>\n",
       "</table>\n",
       "</div>"
      ],
      "text/plain": [
       "  Financial_year GDP_in_rs_cr GDP_growth_rate_yoy\n",
       "0        1951-52       286147                 233\n",
       "1        1952-53       294267                 284\n",
       "2        1953-54       312177                 609\n",
       "3        1954-55       325431                 425\n",
       "4        1955-56       333766                 256\n",
       "5        1956-57       352766                 569\n",
       "6        1957-58       348500                -121\n",
       "7        1958-59       374948                 759\n",
       "8        1959-60       383153                 219\n",
       "9        1960-61       410279                 708"
      ]
     },
     "execution_count": 6,
     "metadata": {},
     "output_type": "execute_result"
    }
   ],
   "source": [
    "gdp_sample_df.head(10)"
   ]
  },
  {
   "cell_type": "code",
   "execution_count": 7,
   "id": "564c5acc",
   "metadata": {},
   "outputs": [
    {
     "data": {
      "text/plain": [
       "0     1951\n",
       "1     1952\n",
       "2     1953\n",
       "3     1954\n",
       "4     1955\n",
       "      ... \n",
       "57    2008\n",
       "58    2009\n",
       "59    2010\n",
       "60    2011\n",
       "61    2012\n",
       "Name: Financial_year, Length: 62, dtype: object"
      ]
     },
     "execution_count": 7,
     "metadata": {},
     "output_type": "execute_result"
    }
   ],
   "source": [
    "gdp_sample_df['Financial_year'] = gdp_sample_df['Financial_year'].apply(lambda x: str(x).split('-')[0])\n",
    "gdp_sample_df['Financial_year']"
   ]
  },
  {
   "cell_type": "code",
   "execution_count": 8,
   "id": "3cff319b",
   "metadata": {},
   "outputs": [
    {
     "data": {
      "text/plain": [
       "0    1951-01-01\n",
       "1    1952-01-01\n",
       "2    1953-01-01\n",
       "3    1954-01-01\n",
       "4    1955-01-01\n",
       "        ...    \n",
       "57   2008-01-01\n",
       "58   2009-01-01\n",
       "59   2010-01-01\n",
       "60   2011-01-01\n",
       "61   2012-01-01\n",
       "Name: Financial_year, Length: 62, dtype: datetime64[ns]"
      ]
     },
     "execution_count": 8,
     "metadata": {},
     "output_type": "execute_result"
    }
   ],
   "source": [
    "gdp_sample_df['Financial_year'] = pd.to_datetime(gdp_sample_df['Financial_year'])\n",
    "gdp_sample_df['Financial_year']"
   ]
  },
  {
   "cell_type": "code",
   "execution_count": 9,
   "id": "4dc4d0d3",
   "metadata": {},
   "outputs": [
    {
     "data": {
      "text/plain": [
       "0      286147.0\n",
       "1      294267.0\n",
       "2      312177.0\n",
       "3      325431.0\n",
       "4      333766.0\n",
       "        ...    \n",
       "57    4158676.0\n",
       "58    4516071.0\n",
       "59    4937006.0\n",
       "60    5243582.0\n",
       "61    5503476.0\n",
       "Name: GDP_in_rs_cr, Length: 62, dtype: float64"
      ]
     },
     "execution_count": 9,
     "metadata": {},
     "output_type": "execute_result"
    }
   ],
   "source": [
    "gdp_sample_df['GDP_in_rs_cr'] = gdp_sample_df['GDP_in_rs_cr'].astype('float64')\n",
    "gdp_sample_df['GDP_in_rs_cr']"
   ]
  },
  {
   "cell_type": "code",
   "execution_count": 10,
   "id": "99eff80b",
   "metadata": {},
   "outputs": [
    {
     "data": {
      "text/html": [
       "<div>\n",
       "<style scoped>\n",
       "    .dataframe tbody tr th:only-of-type {\n",
       "        vertical-align: middle;\n",
       "    }\n",
       "\n",
       "    .dataframe tbody tr th {\n",
       "        vertical-align: top;\n",
       "    }\n",
       "\n",
       "    .dataframe thead th {\n",
       "        text-align: right;\n",
       "    }\n",
       "</style>\n",
       "<table border=\"1\" class=\"dataframe\">\n",
       "  <thead>\n",
       "    <tr style=\"text-align: right;\">\n",
       "      <th></th>\n",
       "      <th>Financial_year</th>\n",
       "      <th>GDP_in_rs_cr</th>\n",
       "    </tr>\n",
       "  </thead>\n",
       "  <tbody>\n",
       "    <tr>\n",
       "      <th>0</th>\n",
       "      <td>1951-01-01</td>\n",
       "      <td>286147.0</td>\n",
       "    </tr>\n",
       "    <tr>\n",
       "      <th>1</th>\n",
       "      <td>1952-01-01</td>\n",
       "      <td>294267.0</td>\n",
       "    </tr>\n",
       "    <tr>\n",
       "      <th>2</th>\n",
       "      <td>1953-01-01</td>\n",
       "      <td>312177.0</td>\n",
       "    </tr>\n",
       "    <tr>\n",
       "      <th>3</th>\n",
       "      <td>1954-01-01</td>\n",
       "      <td>325431.0</td>\n",
       "    </tr>\n",
       "    <tr>\n",
       "      <th>4</th>\n",
       "      <td>1955-01-01</td>\n",
       "      <td>333766.0</td>\n",
       "    </tr>\n",
       "    <tr>\n",
       "      <th>...</th>\n",
       "      <td>...</td>\n",
       "      <td>...</td>\n",
       "    </tr>\n",
       "    <tr>\n",
       "      <th>57</th>\n",
       "      <td>2008-01-01</td>\n",
       "      <td>4158676.0</td>\n",
       "    </tr>\n",
       "    <tr>\n",
       "      <th>58</th>\n",
       "      <td>2009-01-01</td>\n",
       "      <td>4516071.0</td>\n",
       "    </tr>\n",
       "    <tr>\n",
       "      <th>59</th>\n",
       "      <td>2010-01-01</td>\n",
       "      <td>4937006.0</td>\n",
       "    </tr>\n",
       "    <tr>\n",
       "      <th>60</th>\n",
       "      <td>2011-01-01</td>\n",
       "      <td>5243582.0</td>\n",
       "    </tr>\n",
       "    <tr>\n",
       "      <th>61</th>\n",
       "      <td>2012-01-01</td>\n",
       "      <td>5503476.0</td>\n",
       "    </tr>\n",
       "  </tbody>\n",
       "</table>\n",
       "<p>62 rows × 2 columns</p>\n",
       "</div>"
      ],
      "text/plain": [
       "   Financial_year  GDP_in_rs_cr\n",
       "0      1951-01-01      286147.0\n",
       "1      1952-01-01      294267.0\n",
       "2      1953-01-01      312177.0\n",
       "3      1954-01-01      325431.0\n",
       "4      1955-01-01      333766.0\n",
       "..            ...           ...\n",
       "57     2008-01-01     4158676.0\n",
       "58     2009-01-01     4516071.0\n",
       "59     2010-01-01     4937006.0\n",
       "60     2011-01-01     5243582.0\n",
       "61     2012-01-01     5503476.0\n",
       "\n",
       "[62 rows x 2 columns]"
      ]
     },
     "execution_count": 10,
     "metadata": {},
     "output_type": "execute_result"
    }
   ],
   "source": [
    "gdp_sample_df = gdp_sample_df.drop(columns=['GDP_growth_rate_yoy'])\n",
    "gdp_sample_df"
   ]
  },
  {
   "cell_type": "code",
   "execution_count": 11,
   "id": "1c1f6f5e",
   "metadata": {},
   "outputs": [
    {
     "data": {
      "text/html": [
       "<div>\n",
       "<style scoped>\n",
       "    .dataframe tbody tr th:only-of-type {\n",
       "        vertical-align: middle;\n",
       "    }\n",
       "\n",
       "    .dataframe tbody tr th {\n",
       "        vertical-align: top;\n",
       "    }\n",
       "\n",
       "    .dataframe thead th {\n",
       "        text-align: right;\n",
       "    }\n",
       "</style>\n",
       "<table border=\"1\" class=\"dataframe\">\n",
       "  <thead>\n",
       "    <tr style=\"text-align: right;\">\n",
       "      <th></th>\n",
       "      <th>GDP_in_rs_cr</th>\n",
       "    </tr>\n",
       "    <tr>\n",
       "      <th>Financial_year</th>\n",
       "      <th></th>\n",
       "    </tr>\n",
       "  </thead>\n",
       "  <tbody>\n",
       "    <tr>\n",
       "      <th>1951-01-01</th>\n",
       "      <td>286147.0</td>\n",
       "    </tr>\n",
       "    <tr>\n",
       "      <th>1952-01-01</th>\n",
       "      <td>294267.0</td>\n",
       "    </tr>\n",
       "    <tr>\n",
       "      <th>1953-01-01</th>\n",
       "      <td>312177.0</td>\n",
       "    </tr>\n",
       "    <tr>\n",
       "      <th>1954-01-01</th>\n",
       "      <td>325431.0</td>\n",
       "    </tr>\n",
       "    <tr>\n",
       "      <th>1955-01-01</th>\n",
       "      <td>333766.0</td>\n",
       "    </tr>\n",
       "    <tr>\n",
       "      <th>...</th>\n",
       "      <td>...</td>\n",
       "    </tr>\n",
       "    <tr>\n",
       "      <th>2008-01-01</th>\n",
       "      <td>4158676.0</td>\n",
       "    </tr>\n",
       "    <tr>\n",
       "      <th>2009-01-01</th>\n",
       "      <td>4516071.0</td>\n",
       "    </tr>\n",
       "    <tr>\n",
       "      <th>2010-01-01</th>\n",
       "      <td>4937006.0</td>\n",
       "    </tr>\n",
       "    <tr>\n",
       "      <th>2011-01-01</th>\n",
       "      <td>5243582.0</td>\n",
       "    </tr>\n",
       "    <tr>\n",
       "      <th>2012-01-01</th>\n",
       "      <td>5503476.0</td>\n",
       "    </tr>\n",
       "  </tbody>\n",
       "</table>\n",
       "<p>62 rows × 1 columns</p>\n",
       "</div>"
      ],
      "text/plain": [
       "                GDP_in_rs_cr\n",
       "Financial_year              \n",
       "1951-01-01          286147.0\n",
       "1952-01-01          294267.0\n",
       "1953-01-01          312177.0\n",
       "1954-01-01          325431.0\n",
       "1955-01-01          333766.0\n",
       "...                      ...\n",
       "2008-01-01         4158676.0\n",
       "2009-01-01         4516071.0\n",
       "2010-01-01         4937006.0\n",
       "2011-01-01         5243582.0\n",
       "2012-01-01         5503476.0\n",
       "\n",
       "[62 rows x 1 columns]"
      ]
     },
     "execution_count": 11,
     "metadata": {},
     "output_type": "execute_result"
    }
   ],
   "source": [
    "gdp_sample_df1 = gdp_sample_df.set_index('Financial_year')\n",
    "gdp_sample_df1"
   ]
  },
  {
   "cell_type": "markdown",
   "id": "ffc86343",
   "metadata": {},
   "source": [
    "### To test stationarity of our data we chose Augmented-Dickey Fuller test which will give us p-value and on that basis if greater then 0.05 then its non-stationary as in our case its non-stationary as its seen having an upward trend."
   ]
  },
  {
   "cell_type": "code",
   "execution_count": 12,
   "id": "cfcb4b73",
   "metadata": {},
   "outputs": [],
   "source": [
    "from statsmodels.tsa.stattools import adfuller"
   ]
  },
  {
   "cell_type": "code",
   "execution_count": 13,
   "id": "4acead19",
   "metadata": {},
   "outputs": [],
   "source": [
    "def adfuller_test2(x):\n",
    "    result = adfuller(x)\n",
    "    labels = ['ADF Test Statistic', 'p-value', '#Lags Used', 'Number of Observations Used']\n",
    "    for value,label in zip(result,labels):\n",
    "        print(label+' : '+str(value))\n",
    "    if result[1] <=0.05:\n",
    "        print('strong evidence against null hypothesis, we will reject null hypothesis indicating it is stationary')\n",
    "    else:\n",
    "        print('due to weak evidence or lack of evidence against null hypothesis, we fail to reject null hypothesis indicating it is non-staionary')"
   ]
  },
  {
   "cell_type": "code",
   "execution_count": 14,
   "id": "c5f22da1",
   "metadata": {},
   "outputs": [
    {
     "name": "stdout",
     "output_type": "stream",
     "text": [
      "ADF Test Statistic : 1.5552297745511696\n",
      "p-value : 0.9977168474627248\n",
      "#Lags Used : 11\n",
      "Number of Observations Used : 50\n",
      "due to weak evidence or lack of evidence against null hypothesis, we fail to reject null hypothesis indicating it is non-staionary\n"
     ]
    }
   ],
   "source": [
    "adfuller_test2(gdp_sample_df1['GDP_in_rs_cr'])"
   ]
  },
  {
   "cell_type": "markdown",
   "id": "ff6ab1e8",
   "metadata": {},
   "source": [
    "### So to make our data stationary i.e to remove trend we need to differentiate it once or max twice not greater then twice, if data is becoming stationary after differentiating once i.e p-value is coming less then 0.05 then our d is 1, if not then consider d = 2, we can do this by either creating a dataframe of 1 or 2 row differenced values OR by simply using ndiffs function which will give us directly the value of d and then we can put that differenced values in pacf and acf plots to get AR and MA values respectively"
   ]
  },
  {
   "cell_type": "code",
   "execution_count": 15,
   "id": "d4575e97",
   "metadata": {},
   "outputs": [],
   "source": [
    "from pmdarima.arima.utils import ndiffs"
   ]
  },
  {
   "cell_type": "code",
   "execution_count": 16,
   "id": "2b099764",
   "metadata": {},
   "outputs": [
    {
     "data": {
      "text/plain": [
       "2"
      ]
     },
     "execution_count": 16,
     "metadata": {},
     "output_type": "execute_result"
    }
   ],
   "source": [
    "ndiffs(gdp_sample_df1['GDP_in_rs_cr'], test='adf')"
   ]
  },
  {
   "cell_type": "code",
   "execution_count": 17,
   "id": "7d786f22",
   "metadata": {},
   "outputs": [],
   "source": [
    "from statsmodels.graphics.tsaplots import plot_acf, plot_pacf"
   ]
  },
  {
   "cell_type": "markdown",
   "id": "69bd3889",
   "metadata": {},
   "source": [
    "### Here to get our p value for auto regression we will see at what point does graph cuts significance line, it cuts negatively at 1 and positively at 11 so p = 1 or p = 11 both are fine"
   ]
  },
  {
   "cell_type": "code",
   "execution_count": 18,
   "id": "9e0d3cc3",
   "metadata": {
    "scrolled": false
   },
   "outputs": [
    {
     "data": {
      "image/png": "[encoded data removed]",
      "text/plain": [
       "<Figure size 1152x288 with 2 Axes>"
      ]
     },
     "metadata": {
      "needs_background": "light"
     },
     "output_type": "display_data"
    }
   ],
   "source": [
    "# To find AR(p) value\n",
    "\n",
    "diff = gdp_sample_df1['GDP_in_rs_cr'].diff().diff().dropna()\n",
    "\n",
    "fig, (ax1, ax2) = plt.subplots(1,2, figsize=(16,4))\n",
    "ax1.plot(diff)\n",
    "ax1.set_title('Difference order 2')\n",
    "#ax2.set_ylim(0,1)\n",
    "plot_pacf(diff, ax=ax2);"
   ]
  },
  {
   "cell_type": "markdown",
   "id": "89dcd665",
   "metadata": {},
   "source": [
    "### Here to get our q value for moving averages we will see at what point does graph cuts significance line, it cuts negatively at 1 and positively at 11 so q = 1 or q = 11 both are fine"
   ]
  },
  {
   "cell_type": "code",
   "execution_count": 19,
   "id": "d9318601",
   "metadata": {},
   "outputs": [
    {
     "data": {
      "image/png": "[encoded data removed]",
      "text/plain": [
       "<Figure size 1152x288 with 2 Axes>"
      ]
     },
     "metadata": {
      "needs_background": "light"
     },
     "output_type": "display_data"
    }
   ],
   "source": [
    "# To find MA(q) value\n",
    "\n",
    "fig, (ax1, ax2) = plt.subplots(1,2, figsize=(16,4))\n",
    "ax1.plot(diff)\n",
    "ax1.set_title('Difference order 2')\n",
    "#ax2.set_ylim(0,1)\n",
    "plot_acf(diff, ax=ax2);"
   ]
  },
  {
   "cell_type": "code",
   "execution_count": 31,
   "id": "129e56a5",
   "metadata": {},
   "outputs": [],
   "source": [
    "from statsmodels.tsa.arima_model import ARIMA\n",
    "import warnings\n",
    "warnings.filterwarnings('ignore')"
   ]
  },
  {
   "cell_type": "markdown",
   "id": "e8111d23",
   "metadata": {},
   "source": [
    "### Now here we will test with rmse metric how good our model is"
   ]
  },
  {
   "cell_type": "code",
   "execution_count": 32,
   "id": "bae4ac2c",
   "metadata": {},
   "outputs": [
    {
     "name": "stdout",
     "output_type": "stream",
     "text": [
      "(62, 1)\n",
      "(52, 1) (10, 1)\n",
      "52\n"
     ]
    }
   ],
   "source": [
    "## we split into train and test, 10 rows in test set and remaining in train set\n",
    "\n",
    "print(gdp_sample_df1.shape)\n",
    "train = gdp_sample_df1.iloc[:-10]\n",
    "test = gdp_sample_df1.iloc[-10:]\n",
    "print(train.shape, test.shape)\n",
    "print(len(train))"
   ]
  },
  {
   "cell_type": "code",
   "execution_count": 33,
   "id": "e7390e30",
   "metadata": {},
   "outputs": [],
   "source": [
    "## Now we will fit our model on train set\n",
    "\n",
    "train_model = ARIMA(train['GDP_in_rs_cr'], order=(1,2,1))\n",
    "train_model = train_model.fit()"
   ]
  },
  {
   "cell_type": "code",
   "execution_count": 34,
   "id": "d4bfa591",
   "metadata": {},
   "outputs": [
    {
     "name": "stdout",
     "output_type": "stream",
     "text": [
      "2003-01-01    2.695474e+06\n",
      "2004-01-01    2.818887e+06\n",
      "2005-01-01    2.945126e+06\n",
      "2006-01-01    3.073550e+06\n",
      "2007-01-01    3.204259e+06\n",
      "2008-01-01    3.337236e+06\n",
      "2009-01-01    3.472485e+06\n",
      "2010-01-01    3.610004e+06\n",
      "2011-01-01    3.749793e+06\n",
      "2012-01-01    3.891853e+06\n",
      "Freq: AS-JAN, dtype: float64\n"
     ]
    }
   ],
   "source": [
    "## and now predict on test set\n",
    "\n",
    "start_train = len(train)\n",
    "end_train = len(train)+len(test)-1\n",
    "p = train_model.predict(start=start_train, end=end_train, typ='levels')\n",
    "print(p)"
   ]
  },
  {
   "cell_type": "code",
   "execution_count": 35,
   "id": "6379d154",
   "metadata": {},
   "outputs": [
    {
     "data": {
      "text/plain": [
       "<AxesSubplot:xlabel='Financial_year'>"
      ]
     },
     "execution_count": 35,
     "metadata": {},
     "output_type": "execute_result"
    },
    {
     "data": {
      "image/png": "[encoded data removed]",
      "text/plain": [
       "<Figure size 432x288 with 1 Axes>"
      ]
     },
     "metadata": {
      "needs_background": "light"
     },
     "output_type": "display_data"
    }
   ],
   "source": [
    "p.plot(legend=True)\n",
    "test['GDP_in_rs_cr'].plot(legend=True)"
   ]
  },
  {
   "cell_type": "markdown",
   "id": "4dda22e7",
   "metadata": {},
   "source": [
    "### So below we got rmse 959097 which is pretty far from the mean of our test set i.e huge gap between rmse and test mean, so we conclude that our model is fitting well and we can predict for future predictions"
   ]
  },
  {
   "cell_type": "code",
   "execution_count": 36,
   "id": "868e7a24",
   "metadata": {},
   "outputs": [
    {
     "data": {
      "text/plain": [
       "4082216.1"
      ]
     },
     "execution_count": 36,
     "metadata": {},
     "output_type": "execute_result"
    }
   ],
   "source": [
    "test['GDP_in_rs_cr'].mean()"
   ]
  },
  {
   "cell_type": "code",
   "execution_count": 37,
   "id": "3bd11404",
   "metadata": {},
   "outputs": [
    {
     "name": "stdout",
     "output_type": "stream",
     "text": [
      "959097.4387139055\n"
     ]
    }
   ],
   "source": [
    "from sklearn.metrics import mean_squared_error\n",
    "from math import sqrt\n",
    "rmse = sqrt(mean_squared_error(p,test['GDP_in_rs_cr']))\n",
    "print(rmse)"
   ]
  },
  {
   "cell_type": "markdown",
   "id": "f971c56f",
   "metadata": {},
   "source": [
    "## Now below we will fit our data on whole dataset"
   ]
  },
  {
   "cell_type": "markdown",
   "id": "36c480af",
   "metadata": {},
   "source": [
    "#### Now below from summary we can see our AIC value is pretty low for our p,q values"
   ]
  },
  {
   "cell_type": "code",
   "execution_count": 38,
   "id": "e09204d5",
   "metadata": {},
   "outputs": [
    {
     "data": {
      "text/html": [
       "<table class=\"simpletable\">\n",
       "<caption>ARIMA Model Results</caption>\n",
       "<tr>\n",
       "  <th>Dep. Variable:</th>  <td>D2.GDP_in_rs_cr</td> <th>  No. Observations:  </th>    <td>60</td>    \n",
       "</tr>\n",
       "<tr>\n",
       "  <th>Model:</th>          <td>ARIMA(1, 2, 1)</td>  <th>  Log Likelihood     </th> <td>-720.692</td> \n",
       "</tr>\n",
       "<tr>\n",
       "  <th>Method:</th>             <td>css-mle</td>     <th>  S.D. of innovations</th> <td>39750.869</td>\n",
       "</tr>\n",
       "<tr>\n",
       "  <th>Date:</th>          <td>Sun, 09 Oct 2022</td> <th>  AIC                </th> <td>1449.383</td> \n",
       "</tr>\n",
       "<tr>\n",
       "  <th>Time:</th>              <td>20:05:38</td>     <th>  BIC                </th> <td>1457.761</td> \n",
       "</tr>\n",
       "<tr>\n",
       "  <th>Sample:</th>           <td>01-01-1953</td>    <th>  HQIC               </th> <td>1452.660</td> \n",
       "</tr>\n",
       "<tr>\n",
       "  <th></th>                 <td>- 01-01-2012</td>   <th>                     </th>     <td> </td>    \n",
       "</tr>\n",
       "</table>\n",
       "<table class=\"simpletable\">\n",
       "<tr>\n",
       "            <td></td>               <th>coef</th>     <th>std err</th>      <th>z</th>      <th>P>|z|</th>  <th>[0.025</th>    <th>0.975]</th>  \n",
       "</tr>\n",
       "<tr>\n",
       "  <th>const</th>                 <td> 4967.4234</td> <td> 2673.667</td> <td>    1.858</td> <td> 0.063</td> <td> -272.868</td> <td> 1.02e+04</td>\n",
       "</tr>\n",
       "<tr>\n",
       "  <th>ar.L1.D2.GDP_in_rs_cr</th> <td>    0.0320</td> <td>    0.246</td> <td>    0.130</td> <td> 0.897</td> <td>   -0.451</td> <td>    0.515</td>\n",
       "</tr>\n",
       "<tr>\n",
       "  <th>ma.L1.D2.GDP_in_rs_cr</th> <td>   -0.5060</td> <td>    0.206</td> <td>   -2.455</td> <td> 0.014</td> <td>   -0.910</td> <td>   -0.102</td>\n",
       "</tr>\n",
       "</table>\n",
       "<table class=\"simpletable\">\n",
       "<caption>Roots</caption>\n",
       "<tr>\n",
       "    <td></td>   <th>            Real</th>  <th>         Imaginary</th> <th>         Modulus</th>  <th>        Frequency</th>\n",
       "</tr>\n",
       "<tr>\n",
       "  <th>AR.1</th> <td>          31.2761</td> <td>          +0.0000j</td> <td>          31.2761</td> <td>           0.0000</td>\n",
       "</tr>\n",
       "<tr>\n",
       "  <th>MA.1</th> <td>           1.9762</td> <td>          +0.0000j</td> <td>           1.9762</td> <td>           0.0000</td>\n",
       "</tr>\n",
       "</table>"
      ],
      "text/plain": [
       "<class 'statsmodels.iolib.summary.Summary'>\n",
       "\"\"\"\n",
       "                             ARIMA Model Results                              \n",
       "==============================================================================\n",
       "Dep. Variable:        D2.GDP_in_rs_cr   No. Observations:                   60\n",
       "Model:                 ARIMA(1, 2, 1)   Log Likelihood                -720.692\n",
       "Method:                       css-mle   S.D. of innovations          39750.869\n",
       "Date:                Sun, 09 Oct 2022   AIC                           1449.383\n",
       "Time:                        20:05:38   BIC                           1457.761\n",
       "Sample:                    01-01-1953   HQIC                          1452.660\n",
       "                         - 01-01-2012                                         \n",
       "=========================================================================================\n",
       "                            coef    std err          z      P>|z|      [0.025      0.975]\n",
       "-----------------------------------------------------------------------------------------\n",
       "const                  4967.4234   2673.667      1.858      0.063    -272.868    1.02e+04\n",
       "ar.L1.D2.GDP_in_rs_cr     0.0320      0.246      0.130      0.897      -0.451       0.515\n",
       "ma.L1.D2.GDP_in_rs_cr    -0.5060      0.206     -2.455      0.014      -0.910      -0.102\n",
       "                                    Roots                                    \n",
       "=============================================================================\n",
       "                  Real          Imaginary           Modulus         Frequency\n",
       "-----------------------------------------------------------------------------\n",
       "AR.1           31.2761           +0.0000j           31.2761            0.0000\n",
       "MA.1            1.9762           +0.0000j            1.9762            0.0000\n",
       "-----------------------------------------------------------------------------\n",
       "\"\"\""
      ]
     },
     "execution_count": 38,
     "metadata": {},
     "output_type": "execute_result"
    }
   ],
   "source": [
    "model_df = ARIMA(gdp_sample_df1['GDP_in_rs_cr'], order=(1,2,1)) #11,2,11 is also valid\n",
    "result = model_df.fit()\n",
    "result.summary()\n",
    "#gdp_sample_df1.tail()"
   ]
  },
  {
   "cell_type": "code",
   "execution_count": 39,
   "id": "5e9674c0",
   "metadata": {},
   "outputs": [
    {
     "data": {
      "image/png": "[encoded data removed]",
      "text/plain": [
       "<Figure size 432x288 with 1 Axes>"
      ]
     },
     "metadata": {
      "needs_background": "light"
     },
     "output_type": "display_data"
    }
   ],
   "source": [
    "result.plot_predict(start=2,end=70,dynamic=False);"
   ]
  },
  {
   "cell_type": "markdown",
   "id": "0a9f161e",
   "metadata": {},
   "source": [
    "### Now we will predict for future predictions"
   ]
  },
  {
   "cell_type": "code",
   "execution_count": 40,
   "id": "688e7582",
   "metadata": {},
   "outputs": [
    {
     "name": "stdout",
     "output_type": "stream",
     "text": [
      "2013-01-01    5.810288e+06\n",
      "2014-01-01    6.123409e+06\n",
      "2015-01-01    6.441541e+06\n",
      "2016-01-01    6.764641e+06\n",
      "2017-01-01    7.092709e+06\n",
      "2018-01-01    7.425744e+06\n",
      "2019-01-01    7.763746e+06\n",
      "2020-01-01    8.106716e+06\n",
      "2021-01-01    8.454653e+06\n",
      "2022-01-01    8.807558e+06\n",
      "2023-01-01    9.165430e+06\n",
      "Freq: AS-JAN, Name: ARIMA predictions, dtype: float64\n"
     ]
    }
   ],
   "source": [
    "pred = result.predict(start=len(gdp_sample_df1), end=len(gdp_sample_df1)+10, typ='levels').rename('ARIMA predictions')\n",
    "print(pred)"
   ]
  },
  {
   "cell_type": "code",
   "execution_count": 24,
   "id": "167ec303",
   "metadata": {},
   "outputs": [
    {
     "data": {
      "text/plain": [
       "<AxesSubplot:>"
      ]
     },
     "execution_count": 24,
     "metadata": {},
     "output_type": "execute_result"
    },
    {
     "data": {
      "image/png": "[encoded data removed]",
      "text/plain": [
       "<Figure size 864x360 with 1 Axes>"
      ]
     },
     "metadata": {
      "needs_background": "light"
     },
     "output_type": "display_data"
    }
   ],
   "source": [
    "pred.plot(figsize=(12,5))"
   ]
  },
  {
   "cell_type": "code",
   "execution_count": 25,
   "id": "31738bf0",
   "metadata": {},
   "outputs": [],
   "source": [
    "step = 2\n",
    "\n",
    "fc, se, conf = result.forecast(step)"
   ]
  },
  {
   "cell_type": "code",
   "execution_count": 26,
   "id": "35abd756",
   "metadata": {},
   "outputs": [
    {
     "data": {
      "text/plain": [
       "(array([5787645.09344653, 6057989.14745183]),\n",
       " array([[5735332.87550264, 5839957.31139042],\n",
       "        [5958455.83162768, 6157522.46327599]]))"
      ]
     },
     "execution_count": 26,
     "metadata": {},
     "output_type": "execute_result"
    }
   ],
   "source": [
    "fc, conf"
   ]
  },
  {
   "cell_type": "code",
   "execution_count": 27,
   "id": "02b44eeb",
   "metadata": {},
   "outputs": [
    {
     "data": {
      "text/plain": [
       "2013-01-01    5.787645e+06\n",
       "2014-01-01    6.062218e+06\n",
       "2015-01-01    6.331146e+06\n",
       "2016-01-01    6.715119e+06\n",
       "2017-01-01    7.122781e+06\n",
       "2018-01-01    7.529916e+06\n",
       "Freq: AS-JAN, Name: ARIMA predictions, dtype: float64"
      ]
     },
     "execution_count": 27,
     "metadata": {},
     "output_type": "execute_result"
    }
   ],
   "source": [
    "fc = pd.Series(pred)\n",
    "lower = pd.Series(conf[:,0])\n",
    "upper = pd.Series(conf[:,1])\n",
    "fc"
   ]
  },
  {
   "cell_type": "code",
   "execution_count": 28,
   "id": "8ce665a2",
   "metadata": {},
   "outputs": [
    {
     "data": {
      "text/plain": [
       "<matplotlib.legend.Legend at 0x1f00f51d550>"
      ]
     },
     "execution_count": 28,
     "metadata": {},
     "output_type": "execute_result"
    },
    {
     "data": {
      "image/png": "[encoded data removed]",
      "text/plain": [
       "<Figure size 1152x504 with 1 Axes>"
      ]
     },
     "metadata": {
      "needs_background": "light"
     },
     "output_type": "display_data"
    }
   ],
   "source": [
    "plt.figure(figsize=(16,7))\n",
    "plt.plot(gdp_sample_df1, label='actual')\n",
    "plt.plot(fc, label='forecast')\n",
    "plt.fill_between(lower.index, lower, upper, color='k', alpha=0.1)\n",
    "plt.title('Forecast vs Actual')\n",
    "plt.legend(loc='upper left')"
   ]
  }
 ],
 "metadata": {
  "kernelspec": {
   "display_name": "Python 3",
   "language": "python",
   "name": "python3"
  },
  "language_info": {
   "codemirror_mode": {
    "name": "ipython",
    "version": 3
   },
   "file_extension": ".py",
   "mimetype": "text/x-python",
   "name": "python",
   "nbconvert_exporter": "python",
   "pygments_lexer": "ipython3",
   "version": "3.8.8"
  }
 },
 "nbformat": 4,
 "nbformat_minor": 5
}
